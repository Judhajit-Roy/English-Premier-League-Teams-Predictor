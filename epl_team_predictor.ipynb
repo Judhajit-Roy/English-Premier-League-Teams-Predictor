{
  "nbformat": 4,
  "nbformat_minor": 0,
  "metadata": {
    "colab": {
      "name": "epl team predictor.ipynb",
      "provenance": []
    },
    "kernelspec": {
      "name": "python3",
      "display_name": "Python 3"
    },
    "language_info": {
      "name": "python"
    }
  },
  "cells": [
    {
      "cell_type": "code",
      "metadata": {
        "id": "bDYNQFZW_46Z"
      },
      "source": [
        "# !unzip /content/datasetnew.zip"
      ],
      "execution_count": null,
      "outputs": []
    },
    {
      "cell_type": "code",
      "metadata": {
        "id": "2deY6PAIBqII"
      },
      "source": [
        "import os"
      ],
      "execution_count": null,
      "outputs": []
    },
    {
      "cell_type": "code",
      "metadata": {
        "id": "Ak3cut-8C3OL"
      },
      "source": [
        "path = \"/content/datasetnew\"\n",
        "# open(path)"
      ],
      "execution_count": null,
      "outputs": []
    },
    {
      "cell_type": "code",
      "metadata": {
        "id": "fIr8ExekFQF7"
      },
      "source": [
        "import numpy as np\n",
        "import os\n",
        "import PIL\n",
        "import PIL.Image\n",
        "import tensorflow as tf"
      ],
      "execution_count": null,
      "outputs": []
    },
    {
      "cell_type": "code",
      "metadata": {
        "colab": {
          "base_uri": "https://localhost:8080/",
          "height": 35
        },
        "id": "kTC7JSirHhsz",
        "outputId": "b4fb67fc-988d-41b8-f83a-63c931a2226d"
      },
      "source": [
        "tf.__version__\n"
      ],
      "execution_count": null,
      "outputs": [
        {
          "output_type": "execute_result",
          "data": {
            "application/vnd.google.colaboratory.intrinsic+json": {
              "type": "string"
            },
            "text/plain": [
              "'2.5.0'"
            ]
          },
          "metadata": {
            "tags": []
          },
          "execution_count": 61
        }
      ]
    },
    {
      "cell_type": "code",
      "metadata": {
        "id": "fo9CtoJsFl2g"
      },
      "source": [
        "batch_size = 3\n",
        "img_height = 180\n",
        "img_width = 180"
      ],
      "execution_count": null,
      "outputs": []
    },
    {
      "cell_type": "code",
      "metadata": {
        "colab": {
          "base_uri": "https://localhost:8080/"
        },
        "id": "Tv3gkpheETKY",
        "outputId": "f995a669-4524-487b-f068-4f38af243834"
      },
      "source": [
        "\n",
        "train_ds = tf.keras.preprocessing.image_dataset_from_directory(\n",
        "  path,\n",
        "  validation_split=0.2,\n",
        "  subset=\"training\",\n",
        "  seed=123,\n",
        "  image_size=(img_height, img_width),\n",
        "  batch_size=batch_size)"
      ],
      "execution_count": null,
      "outputs": [
        {
          "output_type": "stream",
          "text": [
            "Found 91 files belonging to 6 classes.\n",
            "Using 73 files for training.\n"
          ],
          "name": "stdout"
        }
      ]
    },
    {
      "cell_type": "code",
      "metadata": {
        "colab": {
          "base_uri": "https://localhost:8080/"
        },
        "id": "6U04QI58K0aq",
        "outputId": "e59915ed-bbbf-406e-b3d1-5347bf846c04"
      },
      "source": [
        "val_ds = tf.keras.preprocessing.image_dataset_from_directory(\n",
        "  path,\n",
        "  validation_split=0.2,\n",
        "  subset=\"validation\",\n",
        "  seed=123,\n",
        "  image_size=(img_height, img_width),\n",
        "  batch_size=batch_size)"
      ],
      "execution_count": null,
      "outputs": [
        {
          "output_type": "stream",
          "text": [
            "Found 91 files belonging to 6 classes.\n",
            "Using 18 files for validation.\n"
          ],
          "name": "stdout"
        }
      ]
    },
    {
      "cell_type": "code",
      "metadata": {
        "colab": {
          "base_uri": "https://localhost:8080/"
        },
        "id": "N--oK6WtFsh1",
        "outputId": "0f3ee084-f6af-4f81-ec49-f10b7bfc69d1"
      },
      "source": [
        "train_ds"
      ],
      "execution_count": null,
      "outputs": [
        {
          "output_type": "execute_result",
          "data": {
            "text/plain": [
              "<BatchDataset shapes: ((None, 180, 180, 3), (None,)), types: (tf.float32, tf.int32)>"
            ]
          },
          "metadata": {
            "tags": []
          },
          "execution_count": 65
        }
      ]
    },
    {
      "cell_type": "code",
      "metadata": {
        "colab": {
          "base_uri": "https://localhost:8080/"
        },
        "id": "NaIoAlmfFt0y",
        "outputId": "ec906efd-af94-4104-9d3e-ae81c6d6c6ff"
      },
      "source": [
        "train_ds.class_names"
      ],
      "execution_count": null,
      "outputs": [
        {
          "output_type": "execute_result",
          "data": {
            "text/plain": [
              "['arsenal players',\n",
              " 'chelsea players',\n",
              " 'liverpool players',\n",
              " 'mancity players',\n",
              " 'manunited players',\n",
              " 'tottenham players']"
            ]
          },
          "metadata": {
            "tags": []
          },
          "execution_count": 66
        }
      ]
    },
    {
      "cell_type": "code",
      "metadata": {
        "id": "hUm4DMg8INlr"
      },
      "source": [
        "num_classes = len(train_ds.class_names)\n"
      ],
      "execution_count": null,
      "outputs": []
    },
    {
      "cell_type": "markdown",
      "metadata": {
        "id": "94y0HsevOdAV"
      },
      "source": [
        "# cnn model"
      ]
    },
    {
      "cell_type": "code",
      "metadata": {
        "id": "EeOEfsKQOetP"
      },
      "source": [
        "model1 = tf.keras.Sequential([\n",
        "  tf.keras.layers.experimental.preprocessing.Rescaling(1./255),\n",
        "  tf.keras.layers.Conv2D(32, 3, activation='relu'),\n",
        "  tf.keras.layers.MaxPooling2D(),\n",
        "  tf.keras.layers.Conv2D(32, 3, activation='relu'),\n",
        "  tf.keras.layers.MaxPooling2D(),\n",
        "  tf.keras.layers.Conv2D(32, 3, activation='relu'),\n",
        "  tf.keras.layers.MaxPooling2D(),\n",
        "  tf.keras.layers.Flatten(),\n",
        "  tf.keras.layers.Dense(128, activation='relu'),\n",
        "  tf.keras.layers.Dense(num_classes)\n",
        "])"
      ],
      "execution_count": null,
      "outputs": []
    },
    {
      "cell_type": "code",
      "metadata": {
        "colab": {
          "base_uri": "https://localhost:8080/"
        },
        "id": "sLFuLhtmOz2f",
        "outputId": "db2e7d6d-7faa-470a-a5fd-243531a6aed6"
      },
      "source": [
        "model1.summary()"
      ],
      "execution_count": null,
      "outputs": [
        {
          "output_type": "stream",
          "text": [
            "Model: \"sequential_2\"\n",
            "_________________________________________________________________\n",
            "Layer (type)                 Output Shape              Param #   \n",
            "=================================================================\n",
            "rescaling_2 (Rescaling)      (None, 180, 180, 3)       0         \n",
            "_________________________________________________________________\n",
            "conv2d_6 (Conv2D)            (None, 178, 178, 32)      896       \n",
            "_________________________________________________________________\n",
            "max_pooling2d_6 (MaxPooling2 (None, 89, 89, 32)        0         \n",
            "_________________________________________________________________\n",
            "conv2d_7 (Conv2D)            (None, 87, 87, 32)        9248      \n",
            "_________________________________________________________________\n",
            "max_pooling2d_7 (MaxPooling2 (None, 43, 43, 32)        0         \n",
            "_________________________________________________________________\n",
            "conv2d_8 (Conv2D)            (None, 41, 41, 32)        9248      \n",
            "_________________________________________________________________\n",
            "max_pooling2d_8 (MaxPooling2 (None, 20, 20, 32)        0         \n",
            "_________________________________________________________________\n",
            "flatten_2 (Flatten)          (None, 12800)             0         \n",
            "_________________________________________________________________\n",
            "dense_12 (Dense)             (None, 128)               1638528   \n",
            "_________________________________________________________________\n",
            "dense_13 (Dense)             (None, 6)                 774       \n",
            "=================================================================\n",
            "Total params: 1,658,694\n",
            "Trainable params: 1,658,694\n",
            "Non-trainable params: 0\n",
            "_________________________________________________________________\n"
          ],
          "name": "stdout"
        }
      ]
    },
    {
      "cell_type": "code",
      "metadata": {
        "id": "hWm4B7QQO94v"
      },
      "source": [
        "model1.compile(\n",
        "  optimizer='adam',\n",
        "  loss=tf.losses.SparseCategoricalCrossentropy(from_logits=True),\n",
        "  metrics=['accuracy'])"
      ],
      "execution_count": null,
      "outputs": []
    },
    {
      "cell_type": "code",
      "metadata": {
        "colab": {
          "base_uri": "https://localhost:8080/"
        },
        "id": "GX2ujh7oPLOd",
        "outputId": "87ba7cfc-7281-4869-8456-4c887fd3ba8c"
      },
      "source": [
        "model1.fit(\n",
        "  train_ds,\n",
        "  validation_data=val_ds,\n",
        "  epochs=10\n",
        ")"
      ],
      "execution_count": null,
      "outputs": [
        {
          "output_type": "stream",
          "text": [
            "Epoch 1/10\n",
            "73/73 [==============================] - 5s 64ms/step - loss: 1.7792 - accuracy: 0.2466 - val_loss: 1.2230 - val_accuracy: 0.4444\n",
            "Epoch 2/10\n",
            "73/73 [==============================] - 5s 62ms/step - loss: 1.3721 - accuracy: 0.3836 - val_loss: 1.1117 - val_accuracy: 0.5000\n",
            "Epoch 3/10\n",
            "73/73 [==============================] - 4s 60ms/step - loss: 1.1458 - accuracy: 0.5479 - val_loss: 1.0228 - val_accuracy: 0.3889\n",
            "Epoch 4/10\n",
            "73/73 [==============================] - 4s 61ms/step - loss: 0.7940 - accuracy: 0.6712 - val_loss: 1.1188 - val_accuracy: 0.4444\n",
            "Epoch 5/10\n",
            "73/73 [==============================] - 4s 61ms/step - loss: 0.4663 - accuracy: 0.8493 - val_loss: 1.8735 - val_accuracy: 0.5556\n",
            "Epoch 6/10\n",
            "73/73 [==============================] - 4s 61ms/step - loss: 0.5081 - accuracy: 0.8493 - val_loss: 1.4395 - val_accuracy: 0.6111\n",
            "Epoch 7/10\n",
            "73/73 [==============================] - 4s 61ms/step - loss: 0.3712 - accuracy: 0.8630 - val_loss: 1.9383 - val_accuracy: 0.6111\n",
            "Epoch 8/10\n",
            "73/73 [==============================] - 4s 61ms/step - loss: 0.3024 - accuracy: 0.9041 - val_loss: 2.0443 - val_accuracy: 0.3333\n",
            "Epoch 9/10\n",
            "73/73 [==============================] - 4s 61ms/step - loss: 0.0613 - accuracy: 1.0000 - val_loss: 1.7115 - val_accuracy: 0.4444\n",
            "Epoch 10/10\n",
            "73/73 [==============================] - 4s 61ms/step - loss: 0.0668 - accuracy: 0.9589 - val_loss: 0.9911 - val_accuracy: 0.7222\n"
          ],
          "name": "stdout"
        },
        {
          "output_type": "execute_result",
          "data": {
            "text/plain": [
              "<tensorflow.python.keras.callbacks.History at 0x7f71a5581310>"
            ]
          },
          "metadata": {
            "tags": []
          },
          "execution_count": 146
        }
      ]
    },
    {
      "cell_type": "code",
      "metadata": {
        "colab": {
          "base_uri": "https://localhost:8080/"
        },
        "id": "Uloed6XbRAPO",
        "outputId": "18868c72-6c15-4d0a-abb3-b000399b3ef1"
      },
      "source": [
        "train_ds.class_names"
      ],
      "execution_count": null,
      "outputs": [
        {
          "output_type": "execute_result",
          "data": {
            "text/plain": [
              "['arsenal players',\n",
              " 'chelsea players',\n",
              " 'liverpool players',\n",
              " 'mancity players',\n",
              " 'manunited players',\n",
              " 'tottenham players']"
            ]
          },
          "metadata": {
            "tags": []
          },
          "execution_count": 103
        }
      ]
    },
    {
      "cell_type": "code",
      "metadata": {
        "colab": {
          "base_uri": "https://localhost:8080/"
        },
        "id": "rwgcve4yPR59",
        "outputId": "5a5526a9-912f-48dc-c831-a910e398033c"
      },
      "source": [
        "from keras.preprocessing import image\n",
        "import numpy as np\n",
        "teams = train_ds.class_names\n",
        "# from keras.applications.resnet import decode_predictions\n",
        "def preprocessing(img_path):\n",
        "    im = image.load_img(img_path, target_size=(img_height,img_width,3))\n",
        "    im = image.img_to_array(im)\n",
        "    im = np.expand_dims(im, axis=0)\n",
        "    return im\n",
        "def team_predict(model,path,classes):\n",
        "    pred = model.predict(preprocessing(path))\n",
        "    print(classes[np.argmax(pred)].split()[0])  \n",
        "team_predict(model1,classes = teams,path=\"/content/datasetnew/liverpool players/images (8).jpg\")"
      ],
      "execution_count": null,
      "outputs": [
        {
          "output_type": "stream",
          "text": [
            "liverpool\n"
          ],
          "name": "stdout"
        }
      ]
    }
  ]
}